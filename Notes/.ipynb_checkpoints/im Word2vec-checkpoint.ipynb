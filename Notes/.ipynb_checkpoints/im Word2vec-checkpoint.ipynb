{
 "cells": [
  {
   "cell_type": "code",
   "execution_count": 2,
   "metadata": {},
   "outputs": [
    {
     "name": "stdout",
     "output_type": "stream",
     "text": [
      "Requirement already satisfied: spacy in /Users/luoyifeng/opt/anaconda3/envs/tf2/lib/python3.7/site-packages (2.2.4)\n",
      "Requirement already satisfied: preshed<3.1.0,>=3.0.2 in /Users/luoyifeng/opt/anaconda3/envs/tf2/lib/python3.7/site-packages (from spacy) (3.0.5)\n",
      "Requirement already satisfied: cymem<2.1.0,>=2.0.2 in /Users/luoyifeng/opt/anaconda3/envs/tf2/lib/python3.7/site-packages (from spacy) (2.0.5)\n",
      "Requirement already satisfied: thinc==7.4.0 in /Users/luoyifeng/opt/anaconda3/envs/tf2/lib/python3.7/site-packages (from spacy) (7.4.0)\n",
      "Requirement already satisfied: catalogue<1.1.0,>=0.0.7 in /Users/luoyifeng/opt/anaconda3/envs/tf2/lib/python3.7/site-packages (from spacy) (1.0.0)\n",
      "Requirement already satisfied: tqdm<5.0.0,>=4.38.0 in /Users/luoyifeng/opt/anaconda3/envs/tf2/lib/python3.7/site-packages (from spacy) (4.43.0)\n",
      "Requirement already satisfied: numpy>=1.15.0 in /Users/luoyifeng/opt/anaconda3/envs/tf2/lib/python3.7/site-packages (from spacy) (1.18.5)\n",
      "Requirement already satisfied: setuptools in /Users/luoyifeng/opt/anaconda3/envs/tf2/lib/python3.7/site-packages (from spacy) (49.6.0.post20210108)\n",
      "Requirement already satisfied: wasabi<1.1.0,>=0.4.0 in /Users/luoyifeng/opt/anaconda3/envs/tf2/lib/python3.7/site-packages (from spacy) (0.8.0)\n",
      "Requirement already satisfied: blis<0.5.0,>=0.4.0 in /Users/luoyifeng/opt/anaconda3/envs/tf2/lib/python3.7/site-packages (from spacy) (0.4.1)\n",
      "Requirement already satisfied: plac<1.2.0,>=0.9.6 in /Users/luoyifeng/opt/anaconda3/envs/tf2/lib/python3.7/site-packages (from spacy) (1.1.3)\n",
      "Requirement already satisfied: requests<3.0.0,>=2.13.0 in /Users/luoyifeng/opt/anaconda3/envs/tf2/lib/python3.7/site-packages (from spacy) (2.22.0)\n",
      "Requirement already satisfied: murmurhash<1.1.0,>=0.28.0 in /Users/luoyifeng/opt/anaconda3/envs/tf2/lib/python3.7/site-packages (from spacy) (1.0.5)\n",
      "Requirement already satisfied: srsly<1.1.0,>=1.0.2 in /Users/luoyifeng/opt/anaconda3/envs/tf2/lib/python3.7/site-packages (from spacy) (1.0.5)\n",
      "Requirement already satisfied: importlib-metadata>=0.20 in /Users/luoyifeng/opt/anaconda3/envs/tf2/lib/python3.7/site-packages (from catalogue<1.1.0,>=0.0.7->spacy) (3.4.0)\n",
      "Requirement already satisfied: typing-extensions>=3.6.4 in /Users/luoyifeng/opt/anaconda3/envs/tf2/lib/python3.7/site-packages (from importlib-metadata>=0.20->catalogue<1.1.0,>=0.0.7->spacy) (3.7.4.3)\n",
      "Requirement already satisfied: zipp>=0.5 in /Users/luoyifeng/opt/anaconda3/envs/tf2/lib/python3.7/site-packages (from importlib-metadata>=0.20->catalogue<1.1.0,>=0.0.7->spacy) (3.4.0)\n",
      "Requirement already satisfied: chardet<3.1.0,>=3.0.2 in /Users/luoyifeng/opt/anaconda3/envs/tf2/lib/python3.7/site-packages (from requests<3.0.0,>=2.13.0->spacy) (3.0.4)\n",
      "Requirement already satisfied: idna<2.9,>=2.5 in /Users/luoyifeng/opt/anaconda3/envs/tf2/lib/python3.7/site-packages (from requests<3.0.0,>=2.13.0->spacy) (2.8)\n",
      "Requirement already satisfied: certifi>=2017.4.17 in /Users/luoyifeng/opt/anaconda3/envs/tf2/lib/python3.7/site-packages (from requests<3.0.0,>=2.13.0->spacy) (2020.12.5)\n",
      "Requirement already satisfied: urllib3!=1.25.0,!=1.25.1,<1.26,>=1.21.1 in /Users/luoyifeng/opt/anaconda3/envs/tf2/lib/python3.7/site-packages (from requests<3.0.0,>=2.13.0->spacy) (1.25.11)\n"
     ]
    }
   ],
   "source": [
    "import sys\n",
    "!{sys.executable} -m pip install spacy"
   ]
  },
  {
   "cell_type": "code",
   "execution_count": 5,
   "metadata": {},
   "outputs": [],
   "source": [
    "import re # for preprocessing \n",
    "import pandas as pd\n",
    "import numpy as np\n",
    "from time import time # To time the operations\n",
    "from collections import defaultdict # for word frequency\n",
    "\n",
    "import spacy # for preprocessing \n",
    "import logging # setting up the loggings to moniter gensim\n",
    "logging.basicConfig(format=\"%(levelname)s - %(asctime)s: %(message)s\", datefmt='%H:%M:%S', level=logging.INFO)"
   ]
  },
  {
   "cell_type": "code",
   "execution_count": null,
   "metadata": {},
   "outputs": [],
   "source": []
  }
 ],
 "metadata": {
  "kernelspec": {
   "display_name": "Python 3",
   "language": "python",
   "name": "python3"
  },
  "language_info": {
   "codemirror_mode": {
    "name": "ipython",
    "version": 3
   },
   "file_extension": ".py",
   "mimetype": "text/x-python",
   "name": "python",
   "nbconvert_exporter": "python",
   "pygments_lexer": "ipython3",
   "version": "3.7.9"
  }
 },
 "nbformat": 4,
 "nbformat_minor": 4
}
